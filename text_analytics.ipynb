{
  "nbformat": 4,
  "nbformat_minor": 0,
  "metadata": {
    "colab": {
      "provenance": [],
      "include_colab_link": true
    },
    "kernelspec": {
      "name": "python3",
      "display_name": "Python 3"
    },
    "language_info": {
      "name": "python"
    }
  },
  "cells": [
    {
      "cell_type": "markdown",
      "metadata": {
        "id": "view-in-github",
        "colab_type": "text"
      },
      "source": [
        "<a href=\"https://colab.research.google.com/github/sayeemukund/Sayee-Mukund/blob/main/text_analytics.ipynb\" target=\"_parent\"><img src=\"https://colab.research.google.com/assets/colab-badge.svg\" alt=\"Open In Colab\"/></a>"
      ]
    },
    {
      "cell_type": "markdown",
      "source": [
        "# Student ID: XXX\n",
        "\n",
        "**You student_id is your 7/8 digit faser number.**\n",
        "\n",
        "This is a sample format for CE807-24-SP: Assignment . You must follow the format.\n",
        "The code will have three broad sections, and additional section, if needed,\n",
        "\n",
        "\n",
        "1.   Common Codes\n",
        "2.   Method/model 1 Specific Codes\n",
        "3.   Method/model 2 Specific Codes\n",
        "4.   Other Method/model Codes, if any\n",
        "\n",
        "**You must have `train_gen`, `test_gen` for Generative method  and `train_dis`, `test_dis` for Discriminatuve method to perform full training and testing. This will be evaluated automatically, without this your code will fail and no marked.**\n",
        "\n",
        "You code should be proverly indended, print as much as possible, follow standard coding (https://peps.python.org/pep-0008/) and documentaion (https://colab.research.google.com/github/jakevdp/PythonDataScienceHandbook/blob/master/notebooks/01.01-Help-And-Documentation.ipynb) practices.\n",
        "\n",
        "Before each `code block/function`, you must have a `text block` which explain what code block/function is going to do. For each function/class, you need to properly document what are it's input, functionality and output.\n",
        "\n",
        "If you are using any non-standard library, you must have command to install that, for example `pip install datasets`.\n",
        "\n",
        "You must print `train`, `validation` and `test` performance measures.\n",
        "\n",
        "You must also print `train` and `validation` loss in each `epoch`, wherever you are using `epoch`, say in any deep learning algorithms.\n",
        "\n",
        "Your code must\n",
        "\n",
        "*   To reproducibality of the results you must use a `seed`, you have to set seed in `torch`, `numpy` etc, use same seed everywhere **and your Student ID should be your seed**.\n",
        "*   read dataset from './student_id/data/number/', where number is last digit of your student_id folder which will have 3 files [`train.csv`, `val.csv`, `test.csv`]\n",
        "*   save model after finishing the training in './student_id/Model_Gen/' and './student_id/Model_Dis/' for Generative and Discriminative model respectively.\n",
        "*   at testing time you will load models from './student_id/Model_Gen/' and './student_id/Model_Dis/'  for Generative and Discriminative model respectively. Your output file based on the test file will be named “test.csv” and you will add/modify “out_label_model_Gen” and “out_label_model_Dis” column in the existing columns from test.csv. These outputs will be generated from your trained models.\n",
        "*  after testing, your output file will be named “test.csv” and you will add/modify “out_label_model_Gen” and “out_label_model_Dis” column in the existing columns from test.csv. These outputs will be generated from your trained models.\n",
        "\n",
        "\n",
        "\n",
        "\n",
        "**Install and import all required libraries first before starting to code.**\n",
        "\n",
        "\n",
        "\n",
        "\n",
        "\n",
        "\n"
      ],
      "metadata": {
        "id": "VgzEm1gDYBUp"
      }
    },
    {
      "cell_type": "markdown",
      "source": [
        "Let's install all require libraries. For example, `transformers`"
      ],
      "metadata": {
        "id": "_3ZWJlO6JOqY"
      }
    },
    {
      "cell_type": "markdown",
      "source": [
        "Let's import all require libraries.\n",
        "For example, `numpy`"
      ],
      "metadata": {
        "id": "U5XEt6asIi3Q"
      }
    },
    {
      "cell_type": "code",
      "source": [
        "import numpy as np\n",
        "import os\n",
        "import pickle\n",
        "import pandas as pd"
      ],
      "metadata": {
        "id": "TKEZRYhIImbg"
      },
      "execution_count": null,
      "outputs": []
    },
    {
      "cell_type": "markdown",
      "source": [
        "**Let's put your student id as a variable, that you will use different places**"
      ],
      "metadata": {
        "id": "pd5kSsAPZoE6"
      }
    },
    {
      "cell_type": "code",
      "source": [
        "student_id = 2310546 # Note this is an interger and you need to input your id"
      ],
      "metadata": {
        "id": "rqP6pp_3ZkVy"
      },
      "execution_count": null,
      "outputs": []
    },
    {
      "cell_type": "markdown",
      "source": [
        "Let's set `seed` for all libraries like `torch`, `numpy` etc as my student id"
      ],
      "metadata": {
        "id": "RiLUrQ-3zC6V"
      }
    },
    {
      "cell_type": "code",
      "source": [
        "# set same seeds for all libraries\n",
        "\n",
        "#numpy seed\n",
        "np.random.seed(student_id)"
      ],
      "metadata": {
        "id": "TYUn2tj3zCFq"
      },
      "execution_count": null,
      "outputs": []
    },
    {
      "cell_type": "markdown",
      "source": [
        "# Common Codes\n",
        "\n",
        "In this section you will write all common codes, for examples\n",
        "\n",
        "\n",
        "*   Data read\n",
        "*   Command Line argument reading\n",
        "*   Performance Matrics\n",
        "*   Print Dataset Statistics\n",
        "*   Saving model and output\n",
        "*   Loading Model and output\n",
        "*   etc\n",
        "\n",
        "\n"
      ],
      "metadata": {
        "id": "Dlj_VQrkbLgM"
      }
    },
    {
      "cell_type": "markdown",
      "source": [
        "**Let's first allow the GDrive access and set data and model paths**\n",
        "\n",
        "For examples,\n",
        "\n",
        "student_id = 12345670\n",
        "\n",
        "set GOOGLE_DRIVE_PATH_AFTER_MYDRIVE = ‘./CE807-24-SP/Lab10/’ in your GDrive\n",
        "\n",
        "now set all global variable,\n",
        "\n",
        "\n",
        "Sample output directory and file structure: https://drive.google.com/drive/folders/1okgSzgGiwPYYFp7NScEt9MNVolOlld1d?usp=share_link   "
      ],
      "metadata": {
        "id": "uOESFmIPn_nr"
      }
    },
    {
      "cell_type": "code",
      "source": [
        "# Mount Google Drive\n",
        "from google.colab import drive\n",
        "drive.mount('/content/gdrive', force_remount=True)"
      ],
      "metadata": {
        "id": "L1kvIe1NbDoS",
        "colab": {
          "base_uri": "https://localhost:8080/"
        },
        "outputId": "274b5e55-f3ff-4009-97c2-c20778d9595a"
      },
      "execution_count": null,
      "outputs": [
        {
          "output_type": "stream",
          "name": "stdout",
          "text": [
            "Mounted at /content/gdrive\n"
          ]
        }
      ]
    },
    {
      "cell_type": "code",
      "source": [
        "# Add your code to initialize GDrive and data and models paths\n",
        "\n",
        "GOOGLE_DRIVE_PATH_AFTER_MYDRIVE = 'Assignment/'\n",
        "GOOGLE_DRIVE_PATH = os.path.join('gdrive', 'MyDrive', GOOGLE_DRIVE_PATH_AFTER_MYDRIVE)\n",
        "print('List files: ', os.listdir(GOOGLE_DRIVE_PATH))\n",
        "\n",
        "DATA_PATH = os.path.join(GOOGLE_DRIVE_PATH, 'data', '6') # Make sure to replace 0 with last digit of your student Regitration number\n",
        "train_file = os.path.join(DATA_PATH, 'train.csv')\n",
        "print('Train file: ', train_file)\n",
        "\n",
        "val_file = os.path.join(DATA_PATH, 'valid.csv')\n",
        "print('Validation file: ', val_file)\n",
        "\n",
        "test_file = os.path.join(DATA_PATH, 'test.csv')\n",
        "print('Test file: ', test_file)\n",
        "\n",
        "\n",
        "MODEL_PATH = os.path.join(GOOGLE_DRIVE_PATH, 'model', str(student_id)) # Make sure to use your student Regitration number\n",
        "MODEL_Gen_DIRECTORY = os.path.join(MODEL_PATH, 'Model_Gen') # Model Generative directory\n",
        "print('Model Generative directory: ', MODEL_Gen_DIRECTORY)\n",
        "\n",
        "MODEL_Gen_File = MODEL_Gen_DIRECTORY + '.zip'\n",
        "\n",
        "\n",
        "MODEL_Dis_DIRECTORY = os.path.join(MODEL_PATH, 'Model_Dis') # Model Discriminative directory\n",
        "print('Model Discriminative directory: ', MODEL_Dis_DIRECTORY)\n",
        "\n",
        "MODEL_Dis_File = MODEL_Dis_DIRECTORY + '.zip'\n"
      ],
      "metadata": {
        "colab": {
          "base_uri": "https://localhost:8080/"
        },
        "id": "-WKnbP3roLTj",
        "outputId": "c74a503f-3c08-4e17-f849-fdf4b9b17700"
      },
      "execution_count": null,
      "outputs": [
        {
          "output_type": "stream",
          "name": "stdout",
          "text": [
            "List files:  ['data', 'model', 'code (1).ipynb']\n",
            "Train file:  gdrive/MyDrive/Assignment/data/3/train.csv\n",
            "Validation file:  gdrive/MyDrive/Assignment/data/3/valid.csv\n",
            "Test file:  gdrive/MyDrive/Assignment/data/3/test.csv\n",
            "Model Generative directory:  gdrive/MyDrive/Assignment/model/2309763/Model_Gen\n",
            "Model Discriminative directory:  gdrive/MyDrive/Assignment/model/2309763/Model_Dis\n"
          ]
        }
      ]
    },
    {
      "cell_type": "markdown",
      "source": [
        "Let's see train file"
      ],
      "metadata": {
        "id": "0pWvXDghtafa"
      }
    },
    {
      "cell_type": "code",
      "source": [
        "train_df = pd.read_csv(train_file)\n",
        "train_df.head()"
      ],
      "metadata": {
        "colab": {
          "base_uri": "https://localhost:8080/",
          "height": 206
        },
        "id": "DE20RqYGtZjZ",
        "outputId": "53206a8d-7940-40e5-fb85-d68b497a0310"
      },
      "execution_count": null,
      "outputs": [
        {
          "output_type": "execute_result",
          "data": {
            "text/plain": [
              "   omment_id                                            comment  split  \\\n",
              "0   56405359  SDATA_3 :  NEWLINE_TOKENNEWLINE_TOKEN== Cunt E...  train   \n",
              "1  150969639  SDATA_3 :  NEWLINE_TOKENNEWLINE_TOKEN== RfD cl...  train   \n",
              "2   89626571  SDATA_3 :  `NEWLINE_TOKENNEWLINE_TOKENNEWLINE_...  train   \n",
              "3  422545153  SDATA_3 :   NEWLINE_TOKEN:: I see. Just you kn...  train   \n",
              "4   10377960  SDATA_3 :  `NEWLINE_TOKEN#Link  if someone fol...  train   \n",
              "\n",
              "   toxicity  \n",
              "0         0  \n",
              "1         1  \n",
              "2         0  \n",
              "3         0  \n",
              "4         0  "
            ],
            "text/html": [
              "\n",
              "  <div id=\"df-1c64617d-7da5-449d-896b-53e1a912c5ed\" class=\"colab-df-container\">\n",
              "    <div>\n",
              "<style scoped>\n",
              "    .dataframe tbody tr th:only-of-type {\n",
              "        vertical-align: middle;\n",
              "    }\n",
              "\n",
              "    .dataframe tbody tr th {\n",
              "        vertical-align: top;\n",
              "    }\n",
              "\n",
              "    .dataframe thead th {\n",
              "        text-align: right;\n",
              "    }\n",
              "</style>\n",
              "<table border=\"1\" class=\"dataframe\">\n",
              "  <thead>\n",
              "    <tr style=\"text-align: right;\">\n",
              "      <th></th>\n",
              "      <th>omment_id</th>\n",
              "      <th>comment</th>\n",
              "      <th>split</th>\n",
              "      <th>toxicity</th>\n",
              "    </tr>\n",
              "  </thead>\n",
              "  <tbody>\n",
              "    <tr>\n",
              "      <th>0</th>\n",
              "      <td>56405359</td>\n",
              "      <td>SDATA_3 :  NEWLINE_TOKENNEWLINE_TOKEN== Cunt E...</td>\n",
              "      <td>train</td>\n",
              "      <td>0</td>\n",
              "    </tr>\n",
              "    <tr>\n",
              "      <th>1</th>\n",
              "      <td>150969639</td>\n",
              "      <td>SDATA_3 :  NEWLINE_TOKENNEWLINE_TOKEN== RfD cl...</td>\n",
              "      <td>train</td>\n",
              "      <td>1</td>\n",
              "    </tr>\n",
              "    <tr>\n",
              "      <th>2</th>\n",
              "      <td>89626571</td>\n",
              "      <td>SDATA_3 :  `NEWLINE_TOKENNEWLINE_TOKENNEWLINE_...</td>\n",
              "      <td>train</td>\n",
              "      <td>0</td>\n",
              "    </tr>\n",
              "    <tr>\n",
              "      <th>3</th>\n",
              "      <td>422545153</td>\n",
              "      <td>SDATA_3 :   NEWLINE_TOKEN:: I see. Just you kn...</td>\n",
              "      <td>train</td>\n",
              "      <td>0</td>\n",
              "    </tr>\n",
              "    <tr>\n",
              "      <th>4</th>\n",
              "      <td>10377960</td>\n",
              "      <td>SDATA_3 :  `NEWLINE_TOKEN#Link  if someone fol...</td>\n",
              "      <td>train</td>\n",
              "      <td>0</td>\n",
              "    </tr>\n",
              "  </tbody>\n",
              "</table>\n",
              "</div>\n",
              "    <div class=\"colab-df-buttons\">\n",
              "\n",
              "  <div class=\"colab-df-container\">\n",
              "    <button class=\"colab-df-convert\" onclick=\"convertToInteractive('df-1c64617d-7da5-449d-896b-53e1a912c5ed')\"\n",
              "            title=\"Convert this dataframe to an interactive table.\"\n",
              "            style=\"display:none;\">\n",
              "\n",
              "  <svg xmlns=\"http://www.w3.org/2000/svg\" height=\"24px\" viewBox=\"0 -960 960 960\">\n",
              "    <path d=\"M120-120v-720h720v720H120Zm60-500h600v-160H180v160Zm220 220h160v-160H400v160Zm0 220h160v-160H400v160ZM180-400h160v-160H180v160Zm440 0h160v-160H620v160ZM180-180h160v-160H180v160Zm440 0h160v-160H620v160Z\"/>\n",
              "  </svg>\n",
              "    </button>\n",
              "\n",
              "  <style>\n",
              "    .colab-df-container {\n",
              "      display:flex;\n",
              "      gap: 12px;\n",
              "    }\n",
              "\n",
              "    .colab-df-convert {\n",
              "      background-color: #E8F0FE;\n",
              "      border: none;\n",
              "      border-radius: 50%;\n",
              "      cursor: pointer;\n",
              "      display: none;\n",
              "      fill: #1967D2;\n",
              "      height: 32px;\n",
              "      padding: 0 0 0 0;\n",
              "      width: 32px;\n",
              "    }\n",
              "\n",
              "    .colab-df-convert:hover {\n",
              "      background-color: #E2EBFA;\n",
              "      box-shadow: 0px 1px 2px rgba(60, 64, 67, 0.3), 0px 1px 3px 1px rgba(60, 64, 67, 0.15);\n",
              "      fill: #174EA6;\n",
              "    }\n",
              "\n",
              "    .colab-df-buttons div {\n",
              "      margin-bottom: 4px;\n",
              "    }\n",
              "\n",
              "    [theme=dark] .colab-df-convert {\n",
              "      background-color: #3B4455;\n",
              "      fill: #D2E3FC;\n",
              "    }\n",
              "\n",
              "    [theme=dark] .colab-df-convert:hover {\n",
              "      background-color: #434B5C;\n",
              "      box-shadow: 0px 1px 3px 1px rgba(0, 0, 0, 0.15);\n",
              "      filter: drop-shadow(0px 1px 2px rgba(0, 0, 0, 0.3));\n",
              "      fill: #FFFFFF;\n",
              "    }\n",
              "  </style>\n",
              "\n",
              "    <script>\n",
              "      const buttonEl =\n",
              "        document.querySelector('#df-1c64617d-7da5-449d-896b-53e1a912c5ed button.colab-df-convert');\n",
              "      buttonEl.style.display =\n",
              "        google.colab.kernel.accessAllowed ? 'block' : 'none';\n",
              "\n",
              "      async function convertToInteractive(key) {\n",
              "        const element = document.querySelector('#df-1c64617d-7da5-449d-896b-53e1a912c5ed');\n",
              "        const dataTable =\n",
              "          await google.colab.kernel.invokeFunction('convertToInteractive',\n",
              "                                                    [key], {});\n",
              "        if (!dataTable) return;\n",
              "\n",
              "        const docLinkHtml = 'Like what you see? Visit the ' +\n",
              "          '<a target=\"_blank\" href=https://colab.research.google.com/notebooks/data_table.ipynb>data table notebook</a>'\n",
              "          + ' to learn more about interactive tables.';\n",
              "        element.innerHTML = '';\n",
              "        dataTable['output_type'] = 'display_data';\n",
              "        await google.colab.output.renderOutput(dataTable, element);\n",
              "        const docLink = document.createElement('div');\n",
              "        docLink.innerHTML = docLinkHtml;\n",
              "        element.appendChild(docLink);\n",
              "      }\n",
              "    </script>\n",
              "  </div>\n",
              "\n",
              "\n",
              "<div id=\"df-92c03397-af02-484c-9990-5d433a7b8264\">\n",
              "  <button class=\"colab-df-quickchart\" onclick=\"quickchart('df-92c03397-af02-484c-9990-5d433a7b8264')\"\n",
              "            title=\"Suggest charts\"\n",
              "            style=\"display:none;\">\n",
              "\n",
              "<svg xmlns=\"http://www.w3.org/2000/svg\" height=\"24px\"viewBox=\"0 0 24 24\"\n",
              "     width=\"24px\">\n",
              "    <g>\n",
              "        <path d=\"M19 3H5c-1.1 0-2 .9-2 2v14c0 1.1.9 2 2 2h14c1.1 0 2-.9 2-2V5c0-1.1-.9-2-2-2zM9 17H7v-7h2v7zm4 0h-2V7h2v10zm4 0h-2v-4h2v4z\"/>\n",
              "    </g>\n",
              "</svg>\n",
              "  </button>\n",
              "\n",
              "<style>\n",
              "  .colab-df-quickchart {\n",
              "      --bg-color: #E8F0FE;\n",
              "      --fill-color: #1967D2;\n",
              "      --hover-bg-color: #E2EBFA;\n",
              "      --hover-fill-color: #174EA6;\n",
              "      --disabled-fill-color: #AAA;\n",
              "      --disabled-bg-color: #DDD;\n",
              "  }\n",
              "\n",
              "  [theme=dark] .colab-df-quickchart {\n",
              "      --bg-color: #3B4455;\n",
              "      --fill-color: #D2E3FC;\n",
              "      --hover-bg-color: #434B5C;\n",
              "      --hover-fill-color: #FFFFFF;\n",
              "      --disabled-bg-color: #3B4455;\n",
              "      --disabled-fill-color: #666;\n",
              "  }\n",
              "\n",
              "  .colab-df-quickchart {\n",
              "    background-color: var(--bg-color);\n",
              "    border: none;\n",
              "    border-radius: 50%;\n",
              "    cursor: pointer;\n",
              "    display: none;\n",
              "    fill: var(--fill-color);\n",
              "    height: 32px;\n",
              "    padding: 0;\n",
              "    width: 32px;\n",
              "  }\n",
              "\n",
              "  .colab-df-quickchart:hover {\n",
              "    background-color: var(--hover-bg-color);\n",
              "    box-shadow: 0 1px 2px rgba(60, 64, 67, 0.3), 0 1px 3px 1px rgba(60, 64, 67, 0.15);\n",
              "    fill: var(--button-hover-fill-color);\n",
              "  }\n",
              "\n",
              "  .colab-df-quickchart-complete:disabled,\n",
              "  .colab-df-quickchart-complete:disabled:hover {\n",
              "    background-color: var(--disabled-bg-color);\n",
              "    fill: var(--disabled-fill-color);\n",
              "    box-shadow: none;\n",
              "  }\n",
              "\n",
              "  .colab-df-spinner {\n",
              "    border: 2px solid var(--fill-color);\n",
              "    border-color: transparent;\n",
              "    border-bottom-color: var(--fill-color);\n",
              "    animation:\n",
              "      spin 1s steps(1) infinite;\n",
              "  }\n",
              "\n",
              "  @keyframes spin {\n",
              "    0% {\n",
              "      border-color: transparent;\n",
              "      border-bottom-color: var(--fill-color);\n",
              "      border-left-color: var(--fill-color);\n",
              "    }\n",
              "    20% {\n",
              "      border-color: transparent;\n",
              "      border-left-color: var(--fill-color);\n",
              "      border-top-color: var(--fill-color);\n",
              "    }\n",
              "    30% {\n",
              "      border-color: transparent;\n",
              "      border-left-color: var(--fill-color);\n",
              "      border-top-color: var(--fill-color);\n",
              "      border-right-color: var(--fill-color);\n",
              "    }\n",
              "    40% {\n",
              "      border-color: transparent;\n",
              "      border-right-color: var(--fill-color);\n",
              "      border-top-color: var(--fill-color);\n",
              "    }\n",
              "    60% {\n",
              "      border-color: transparent;\n",
              "      border-right-color: var(--fill-color);\n",
              "    }\n",
              "    80% {\n",
              "      border-color: transparent;\n",
              "      border-right-color: var(--fill-color);\n",
              "      border-bottom-color: var(--fill-color);\n",
              "    }\n",
              "    90% {\n",
              "      border-color: transparent;\n",
              "      border-bottom-color: var(--fill-color);\n",
              "    }\n",
              "  }\n",
              "</style>\n",
              "\n",
              "  <script>\n",
              "    async function quickchart(key) {\n",
              "      const quickchartButtonEl =\n",
              "        document.querySelector('#' + key + ' button');\n",
              "      quickchartButtonEl.disabled = true;  // To prevent multiple clicks.\n",
              "      quickchartButtonEl.classList.add('colab-df-spinner');\n",
              "      try {\n",
              "        const charts = await google.colab.kernel.invokeFunction(\n",
              "            'suggestCharts', [key], {});\n",
              "      } catch (error) {\n",
              "        console.error('Error during call to suggestCharts:', error);\n",
              "      }\n",
              "      quickchartButtonEl.classList.remove('colab-df-spinner');\n",
              "      quickchartButtonEl.classList.add('colab-df-quickchart-complete');\n",
              "    }\n",
              "    (() => {\n",
              "      let quickchartButtonEl =\n",
              "        document.querySelector('#df-92c03397-af02-484c-9990-5d433a7b8264 button');\n",
              "      quickchartButtonEl.style.display =\n",
              "        google.colab.kernel.accessAllowed ? 'block' : 'none';\n",
              "    })();\n",
              "  </script>\n",
              "</div>\n",
              "    </div>\n",
              "  </div>\n"
            ],
            "application/vnd.google.colaboratory.intrinsic+json": {
              "type": "dataframe",
              "variable_name": "train_df",
              "summary": "{\n  \"name\": \"train_df\",\n  \"rows\": 8699,\n  \"fields\": [\n    {\n      \"column\": \"omment_id\",\n      \"properties\": {\n        \"dtype\": \"number\",\n        \"std\": 197028442,\n        \"min\": 66667,\n        \"max\": 699822249,\n        \"num_unique_values\": 8699,\n        \"samples\": [\n          459011442,\n          579721792,\n          92469420\n        ],\n        \"semantic_type\": \"\",\n        \"description\": \"\"\n      }\n    },\n    {\n      \"column\": \"comment\",\n      \"properties\": {\n        \"dtype\": \"string\",\n        \"num_unique_values\": 8697,\n        \"samples\": [\n          \"SDATA_3 :  `NEWLINE_TOKENNEWLINE_TOKENNot sure how to answer clearly, but here goes...NEWLINE_TOKENThe concept of there being a need for a minimum difference in boiling points is erroneous and probably comes from rules of thumb for separating two pure phases in a single distillation using a simple apparatus.  That is, if you can boil off 100% of phase A without boiling off/condensing phase B.  Think back to WWII in Norway, when heavy water was separated from ``normal`` water by multiple distillation.  The boiling point difference is only 1.4 degrees, yet heavy water was successfully produced.`  : EDATA_3\",\n          \"SDATA_3 :  `NEWLINE_TOKENNEWLINE_TOKEN==October==NEWLINE_TOKENThis message is regarding the article Rio de Janeiro. Please refrain from adding nonsense to Wikipedia.  It is considered vandalism.  If you would like to experiment, use the sandbox. [  \\u2022 block \\u2022 [ block log] ]  `  : EDATA_3\",\n          \"SDATA_3 :  NEWLINE_TOKENNEWLINE_TOKEN==Frustrated?==NEWLINE_TOKENNEWLINE_TOKENI believe frustrated would be an understatement.  Since I am unable to attack you, which I would never do of course, I will instead point to your senseless and idiotic contributions to the IMPACT- Charlottesville deletion discussion board.     : EDATA_3\"\n        ],\n        \"semantic_type\": \"\",\n        \"description\": \"\"\n      }\n    },\n    {\n      \"column\": \"split\",\n      \"properties\": {\n        \"dtype\": \"category\",\n        \"num_unique_values\": 1,\n        \"samples\": [\n          \"train\"\n        ],\n        \"semantic_type\": \"\",\n        \"description\": \"\"\n      }\n    },\n    {\n      \"column\": \"toxicity\",\n      \"properties\": {\n        \"dtype\": \"number\",\n        \"std\": 0,\n        \"min\": 0,\n        \"max\": 1,\n        \"num_unique_values\": 2,\n        \"samples\": [\n          1\n        ],\n        \"semantic_type\": \"\",\n        \"description\": \"\"\n      }\n    }\n  ]\n}"
            }
          },
          "metadata": {},
          "execution_count": 6
        }
      ]
    },
    {
      "cell_type": "markdown",
      "source": [
        "Let's show you a sample output file. Notice all fields, `out_label` is your model's output for that `tweet` and `id`"
      ],
      "metadata": {
        "id": "Xnm3sUf-q0g4"
      }
    },
    {
      "cell_type": "markdown",
      "source": [
        "We are going to use different performance matrics like Accuracy, Recall (macro), Precision (macro), F1 (macro) and Confusion Matrix for the performance evaluation. We will print all the matrics and display Confusion Matrix with proper X & Y axis labels"
      ],
      "metadata": {
        "id": "E-OjJ4REbhcj"
      }
    },
    {
      "cell_type": "code",
      "source": [
        "from sklearn.metrics import f1_score,accuracy_score, recall_score, precision_score, confusion_matrix"
      ],
      "metadata": {
        "id": "eLOMgVbQfFSm"
      },
      "execution_count": null,
      "outputs": []
    },
    {
      "cell_type": "code",
      "source": [
        "def compute_performance(y_true, y_pred):\n",
        "    \"\"\"\n",
        "    prints different performance matrics like  Accuracy, Recall (macro), Precision (macro), and F1 (macro).\n",
        "    This also display Confusion Matrix with proper X & Y axis labels.\n",
        "    Also, returns F1 score\n",
        "\n",
        "    Args:\n",
        "        y_true: numpy array or list\n",
        "        y_pred: numpy array or list\n",
        "\n",
        "\n",
        "    Returns:\n",
        "        float\n",
        "    \"\"\"\n",
        "\n",
        "    ##########################################################################\n",
        "    #                     TODO: Implement this function                      #\n",
        "    ##########################################################################\n",
        "    # Replace \"pass\" statement with your code\n",
        "    score = f1_score(y_true, y_pred, average='macro')\n",
        "    accuracy = accuracy_score(y_true, y_pred)\n",
        "    recall = recall_score(y_true, y_pred, average='macro')\n",
        "    precision = precision_score(y_true, y_pred, average='macro')\n",
        "\n",
        "    print(\"Accuracy:\", accuracy)\n",
        "    print(\"Recall (macro):\", recall)\n",
        "    print(\"Precision (macro):\", precision)\n",
        "    print(\"score (macro):\", score)\n",
        "\n",
        "    # Display confusion matrix\n",
        "    cm = confusion_matrix(y_true, y_pred)\n",
        "    print(\"Confusion Matrix:\")\n",
        "    print(cm)\n",
        "    # Prepare X & Y axis labels for confusion matrix\n",
        "    unique_labels = np.unique(y_true)\n",
        "    cm_labels = {label: idx for idx, label in enumerate(unique_labels)}\n",
        "\n",
        "    return {\n",
        "        'accuracy': accuracy,\n",
        "        'precision': precision,\n",
        "        'recall': recall,\n",
        "        'confusion_matrix': cm,\n",
        "        'confusion_matrix_labels': cm_labels\n",
        "    }\n",
        "    ##########################################################################\n",
        "    #                            END OF YOUR CODE                            #\n",
        "    ##########################################################################\n",
        "    return score"
      ],
      "metadata": {
        "id": "aLuUu5BWcTid"
      },
      "execution_count": null,
      "outputs": []
    },
    {
      "cell_type": "code",
      "source": [
        "\n",
        "def save_model(model,model_dir):\n",
        "  # save the model to disk\n",
        "  # Check if the Model directory exists\n",
        "\n",
        "  # Note you might have to modify this based on your requirement\n",
        "\n",
        "  if not os.path.exists(model_dir):\n",
        "      # Create the directory if it doesn't exist\n",
        "      os.makedirs(model_dir)\n",
        "      print(f\"Directory '{model_dir}' created successfully.\")\n",
        "  else:\n",
        "      print(f\"Directory '{model_dir}' already exists.\")\n",
        "\n",
        "  model_file = os.path.join(model_dir, 'model.sav')\n",
        "  pickle.dump(model, open(model_file, 'wb'))\n",
        "\n",
        "  print('Saved model to ', model_file)\n",
        "\n",
        "  return model_file\n",
        "\n",
        "def load_model(model_file):\n",
        "    # load model from disk\n",
        "\n",
        "    # Note you might have to modify this based on your requirement\n",
        "\n",
        "    model = pickle.load(open(model_file, 'rb'))\n",
        "\n",
        "    print('Loaded model from ', model_file)\n",
        "\n",
        "    return model"
      ],
      "metadata": {
        "id": "hYwuqlPE5mnr"
      },
      "execution_count": null,
      "outputs": []
    },
    {
      "cell_type": "markdown",
      "source": [
        "# Let's download GDrive Link into a directory"
      ],
      "metadata": {
        "id": "Es_jkptAU4rK"
      }
    },
    {
      "cell_type": "code",
      "source": [
        "import requests\n",
        "\n",
        "def extract_file_id_from_url(url):\n",
        "    # Extract the file ID from the URL\n",
        "    file_id = None\n",
        "    if 'drive.google.com' in url:\n",
        "        file_id = url.split('/')[-2]\n",
        "    elif 'https://docs.google.com' in url:\n",
        "        file_id = url.split('/')[-1]\n",
        "\n",
        "    return file_id\n",
        "\n",
        "def download_file_from_drive(file_id, file_path):\n",
        "    # Construct the download URL\n",
        "    download_url = f\"https://drive.google.com/uc?id={file_id}\"\n",
        "\n",
        "    # Download the file\n",
        "    response = requests.get(download_url)\n",
        "    if response.status_code == 200:\n",
        "        with open(file_path, 'wb') as f:\n",
        "            f.write(response.content)\n",
        "        print(\"File downloaded successfully!\",file_path)\n",
        "    else:\n",
        "        print(\"Failed to download the file.\")\n",
        "\n",
        "def download_zip_file_from_link(file_url,file_path):\n",
        "\n",
        "  file_id = extract_file_id_from_url(file_url)\n",
        "  if file_id:\n",
        "      download_file_from_drive(file_id, file_path)\n",
        "  else:\n",
        "      print(\"Invalid Google Drive URL.\")\n"
      ],
      "metadata": {
        "id": "crNmol_BUxbl"
      },
      "execution_count": null,
      "outputs": []
    },
    {
      "cell_type": "markdown",
      "source": [
        "# Zip and Unzip a GDrive File"
      ],
      "metadata": {
        "id": "PN9mRxr_VVzO"
      }
    },
    {
      "cell_type": "code",
      "source": [
        "import zipfile\n",
        "import shutil\n",
        "import os\n",
        "\n",
        "# Function to zip a directory\n",
        "def zip_directory(directory, zip_filename):\n",
        "    with zipfile.ZipFile(zip_filename, 'w', zipfile.ZIP_DEFLATED) as zipf:\n",
        "        for root, dirs, files in os.walk(directory):\n",
        "            for file in files:\n",
        "                zipf.write(os.path.join(root, file), os.path.relpath(os.path.join(root, file), os.path.join(directory, '..')))\n",
        "        print('Created a zip file',zip_filename)\n",
        "\n",
        "# Function to unzip a zip file\n",
        "def unzip_file(zip_filename, extract_dir):\n",
        "    with zipfile.ZipFile(zip_filename, 'r') as zip_ref:\n",
        "        zip_ref.extractall(extract_dir)\n",
        "    print('Extracted a zip file to',extract_dir)\n",
        "\n",
        "# Example usage:\n",
        "# directory_to_zip = 'path/to/your/directory'\n",
        "# zip_filename = 'output_zipfile.zip'\n",
        "\n",
        "# # Zip the directory\n",
        "# zip_directory(directory_to_zip, zip_filename)\n",
        "\n",
        "# # Unzip the zip file\n",
        "# extract_dir = 'path/to/extract'\n",
        "# unzip_file(zip_filename, extract_dir)\n"
      ],
      "metadata": {
        "id": "8LIOzFFbVVL6"
      },
      "execution_count": null,
      "outputs": []
    },
    {
      "cell_type": "markdown",
      "source": [
        "# Get Sharable link of your Zip file in Gdrive"
      ],
      "metadata": {
        "id": "YrBaRZeDU9yE"
      }
    },
    {
      "cell_type": "code",
      "source": [
        "!pip install -U -q PyDrive"
      ],
      "metadata": {
        "id": "VDPTDAGQglw-"
      },
      "execution_count": null,
      "outputs": []
    },
    {
      "cell_type": "code",
      "source": [
        "from pydrive.auth import GoogleAuth\n",
        "from pydrive.drive import GoogleDrive\n",
        "from google.colab import auth\n",
        "from oauth2client.client import GoogleCredentials\n",
        "\n",
        "\n",
        "def get_gdrive_link(file_path):\n",
        "    # Authenticate and create PyDrive client\n",
        "    auth.authenticate_user()\n",
        "    gauth = GoogleAuth()\n",
        "    gauth.credentials = GoogleCredentials.get_application_default()\n",
        "    drive = GoogleDrive(gauth)\n",
        "\n",
        "    # Find the file in Google Drive\n",
        "    file_name = file_path.split('/')[-1]\n",
        "    file_list = drive.ListFile({'q': f\"title='{file_name}'\"}).GetList()\n",
        "\n",
        "    # Get the file ID and generate the shareable link\n",
        "    if file_list:\n",
        "        file_id = file_list[0]['id']\n",
        "        gdrive_link = f\"https://drive.google.com/file/d/{file_id}/view?usp=sharing\"\n",
        "        return gdrive_link\n",
        "    else:\n",
        "        return \"File not found in Google Drive\"\n",
        "\n",
        "def get_shareable_link(url):\n",
        "\n",
        "    file_id = extract_file_id_from_url(url)\n",
        "\n",
        "    auth.authenticate_user()\n",
        "    gauth = GoogleAuth()\n",
        "    gauth.credentials = GoogleCredentials.get_application_default()\n",
        "    drive = GoogleDrive(gauth)\n",
        "\n",
        "    try:\n",
        "        file_obj = drive.CreateFile({'id': file_id})\n",
        "        file_obj.FetchMetadata()\n",
        "        file_obj.InsertPermission({\n",
        "            'type': 'anyone',\n",
        "            'value': 'anyone',\n",
        "            'role': 'reader'\n",
        "        })\n",
        "\n",
        "        # Get the shareable link\n",
        "        return file_obj['alternateLink']\n",
        "    except Exception as e:\n",
        "        print(\"Error:\", e)\n",
        "        return None\n",
        "\n",
        "# if __name__ == \"__main__\":\n",
        "#     # Replace 'YOUR_FILE_ID' with the ID of the file you want to share\n",
        "#     file_id = 'YOUR_FILE_ID'\n",
        "#     shareable_link = get_shareable_link(file_id)\n",
        "#     if shareable_link:\n",
        "#         print(\"Shareable link:\", shareable_link)\n",
        "#     else:\n",
        "#         print(\"Failed to generate shareable link.\")\n"
      ],
      "metadata": {
        "id": "6Szf4lrfUwS3"
      },
      "execution_count": null,
      "outputs": []
    },
    {
      "cell_type": "markdown",
      "source": [
        "# Method Generative Start\n",
        "\n",
        "In this section you will write all details of your Method 1.\n",
        "\n",
        "You will have to enter multiple `code` and `text` cell.\n",
        "\n",
        "Your code should follow the standard ML pipeline\n",
        "\n",
        "\n",
        "*   Data reading\n",
        "*   Data clearning, if any\n",
        "*   Convert data to vector/tokenization/vectorization\n",
        "*   Model Declaration/Initialization/building\n",
        "*   Training and validation of the model using training and validation dataset\n",
        "*   Save the trained model\n",
        "*   Load and Test the model on testing set\n",
        "*   Save the output of the model\n",
        "\n",
        "\n",
        "You could add any other step(s) based on your method's requirement.\n",
        "\n",
        "After finishing the above, you need to usd splited data as defined in the assignment and then do the same for all 4 sets. Your code should not be copy-pasted 4 time, make use of `function`.\n"
      ],
      "metadata": {
        "id": "47ywe8jGSKhL"
      }
    },
    {
      "cell_type": "markdown",
      "source": [
        "## Training Generative Method Code\n",
        "Your test code should be a stand alone code that must take `train_file`, `val_file`,  and `model_dir` as input. You could have other things as also input, but these three are must. You would load both files, and train using the `train_file` and validating using the `val_file`. You will `print` / `display`/ `plot` all performance metrics, loss(if available) and save the output model in the `model_dir`.\n",
        "\n",
        "Note that at the testing time, you need to use the same pre-processing and model. So, it would be good that you make those as seperate function/pipeline whichever it the best suited for your method. Don't copy-paste same code twice, make it a fucntion/class whichever is best."
      ],
      "metadata": {
        "id": "1sA3OWlVbnoY"
      }
    },
    {
      "cell_type": "code",
      "source": [
        "import pandas as pd\n",
        "from sklearn.model_selection import train_test_split\n",
        "from sklearn.feature_extraction.text import CountVectorizer\n",
        "from sklearn.naive_bayes import MultinomialNB\n",
        "from sklearn.metrics import accuracy_score, recall_score, precision_score, f1_score, confusion_matrix\n",
        "from joblib import dump\n",
        "from sklearn.feature_extraction.text import TfidfVectorizer\n",
        "import re\n",
        "from nltk.tokenize import word_tokenize\n",
        "from nltk.corpus import stopwords\n",
        "from nltk.stem import WordNetLemmatizer\n",
        "def train_Gen(train_file, val_file, model_dir):\n",
        "    \"\"\"\n",
        "    Takes train_file, val_file and model_dir as input.\n",
        "    It trained on the train_file datapoints, and validate on the val_file datapoints.\n",
        "    While training and validating, it print different evaluataion metrics and losses, wheverever necessary.\n",
        "    After finishing the training, it saved the best model in the model_dir.\n",
        "\n",
        "    ADD Other arguments, if needed.\n",
        "\n",
        "    Args:\n",
        "        train_file: Train file name\n",
        "        val_file: Validation file name\n",
        "        model_dir: Model output Directory\n",
        "\n",
        "\n",
        "\n",
        "    \"\"\"\n",
        "\n",
        "    ##########################################################################\n",
        "    #                     TODO: Implement this function                      #\n",
        "    ##########################################################################\n",
        "    # Replace \"pass\" statement with your code\n",
        "\n",
        "\n",
        "def preprocess_data(data):\n",
        "\n",
        "    # Assuming the input DataFrame contains a column named 'comment' containing text data\n",
        "    comments = data['comment'].tolist()\n",
        "\n",
        "    # Initialize a TF-IDF vectorizer with custom preprocessing function\n",
        "    tfidf_vectorizer = TfidfVectorizer(preprocessor=preprocess_text,max_features=1000)\n",
        "\n",
        "    # Fit and transform the text data using the vectorizer\n",
        "    processed_data = tfidf_vectorizer.fit_transform(comments)\n",
        "\n",
        "    return processed_data\n",
        "\n",
        "def preprocess_text(text):\n",
        "\n",
        "    # Convert text to lowercase\n",
        "    text = text.lower()\n",
        "\n",
        "    # Remove special characters and digits\n",
        "    text = re.sub(r'[^a-zA-Z\\s]', '', text)\n",
        "\n",
        "    # Tokenize the text\n",
        "    tokens = word_tokenize(text)\n",
        "\n",
        "    # Remove stop words\n",
        "    stop_words = set(stopwords.words('english'))\n",
        "    tokens = [token for token in tokens if token not in stop_words]\n",
        "\n",
        "    # Lemmatize tokens\n",
        "    lemmatizer = WordNetLemmatizer()\n",
        "    tokens = [lemmatizer.lemmatize(token) for token in tokens]\n",
        "\n",
        "    # Join tokens back into a string\n",
        "    processed_text = ' '.join(tokens)\n",
        "\n",
        "    return processed_text\n",
        "\n",
        "    #Step 1: Data Reading\n",
        "    train_df = pd.read_csv(train_file)\n",
        "    val_df = pd.read_csv(val_file)\n",
        "\n",
        "    # Step 2: Data Preprocessing\n",
        "    X_train = preprocess_data(train_df)\n",
        "    y_train = train_df['toxicity']\n",
        "\n",
        "    X_val = preprocess_data(val_df)\n",
        "    y_val = val_df['toxicity']\n",
        "\n",
        "    # Model Declaration/Initialization/building\n",
        "    model = MultinomialNB()\n",
        "\n",
        "    # Training and validation of the model using training and validation dataset\n",
        "    model.fit(X_train, y_train)\n",
        "\n",
        "    # Validate model\n",
        "    y_pred_val = model.predict(X_val)\n",
        "\n",
        "    y_pred_train = model.predict(X_train)\n",
        "\n",
        "\n",
        "\n",
        "    # Save the trained model\n",
        "    joblib.dump(model, model_dir)\n",
        "\n",
        "\n",
        "    ##########################################################################\n",
        "    #                            END OF YOUR CODE                            #\n",
        "    ##########################################################################\n",
        "    return model_dir"
      ],
      "metadata": {
        "id": "_Ux7GBKXbqq6"
      },
      "execution_count": null,
      "outputs": []
    },
    {
      "cell_type": "markdown",
      "source": [
        "## Testing Method 1 Code\n",
        "Your test code should be a stand alone code that must take `test_file`, `model_file` and `output_dir` as input. You could have other things as also input, but these three are must. You would load both files, and generate output based on inputs. Then you will `print` / `display`/ `plot` all performance metrics, and save the output file in the `output_dir`  "
      ],
      "metadata": {
        "id": "qyJ_xv12Uy9c"
      }
    },
    {
      "cell_type": "code",
      "source": [
        "def test_Gen(test_file, MODEL_PATH,model_gdrive_link,output_dir):\n",
        "    \"\"\"\n",
        "    take test_file, model_file and output_dir as input.\n",
        "    It loads model and test of the examples in the test_file.\n",
        "    It prints different evaluation metrics, and saves the output in output directory\n",
        "\n",
        "    ADD Other arguments, if needed\n",
        "\n",
        "    Args:\n",
        "        test_file: test file name\n",
        "        model_gdrive_link: GDrive URL\n",
        "        MODEL_PATH: Directory of Model\n",
        "\n",
        "    \"\"\"\n",
        "\n",
        "    ##########################################################################\n",
        "    #                     TODO: Implement this function                      #\n",
        "    ##########################################################################\n",
        "    # Replace \"pass\" statement with your code\n",
        "\n",
        "    # Load the trained model\n",
        "    model = load_model(model_gdrive_link)\n",
        "\n",
        "    # Load test data\n",
        "    test_df = pd.read_csv(test_file)\n",
        "    X_test = preprocess_text(test_df['comment'])\n",
        "\n",
        "    # Test the model\n",
        "    y_pred_test = model.predict(X_test)\n",
        "\n",
        "    # Compute performance metrics\n",
        "    performance_metrics = compute_performance(test_df['toxicity'], y_pred_test)\n",
        "\n",
        "    # Print performance metrics\n",
        "    for metric, value in performance_metrics.items():\n",
        "        print(f\"{metric.capitalize()}: {value}\")\n",
        "\n",
        "    #  Save the output of the model\n",
        "    if not os.path.exists(output_dir):\n",
        "        os.makedirs(output_dir)\n",
        "\n",
        "    output_file = os.path.join(output_dir, 'test_output.csv')\n",
        "    test_df['predicted_toxicity'] = y_pred_test\n",
        "    test_df.to_csv(output_file, index=False)\n",
        "    print(output_dir)\n",
        "\n",
        "    print(\"Output saved at:\", output_file)\n",
        "\n",
        "\n",
        "    ##########################################################################\n",
        "    #                            END OF YOUR CODE                            #\n",
        "    ##########################################################################\n",
        "    return output_file"
      ],
      "metadata": {
        "id": "43T3JqK5a484"
      },
      "execution_count": null,
      "outputs": []
    },
    {
      "cell_type": "markdown",
      "source": [
        "## Method Generative End\n"
      ],
      "metadata": {
        "id": "ue3xIDFGSXNH"
      }
    },
    {
      "cell_type": "markdown",
      "source": [
        "# Method Discriminative Start\n",
        "\n",
        "In this section you will write all details of your Method 2.\n",
        "\n",
        "You will have to enter multiple `code` and `text` cell.\n",
        "\n",
        "Your code should follow the standard ML pipeline\n",
        "\n",
        "\n",
        "*   Data reading\n",
        "*   Data clearning, if any\n",
        "*   Convert data to vector/tokenization/vectorization\n",
        "*   Model Declaration/Initialization/building\n",
        "*   Training and validation of the model using training and validation dataset\n",
        "*   Save the trained model\n",
        "*   Load and Test the model on testing set\n",
        "*   Save the output of the model\n",
        "\n",
        "You could add any other step(s) based on your method's requirement.\n",
        "\n",
        "After finishing the above, you need to usd splited data as defined in the assignment and then do the same for all 4 sets. Your code should not be copy-pasted 4 time, make use of `function`.\n"
      ],
      "metadata": {
        "id": "o5jNIHneSfzg"
      }
    },
    {
      "cell_type": "markdown",
      "source": [
        "## Training Method Discriminative Code\n",
        "Your test code should be a stand alone code that must take `train_file`, `val_file`,  and `model_dir` as input. You could have other things as also input, but these three are must. You would load both files, and train using the `train_file` and validating using the `val_file`. You will `print` / `display`/ `plot` all performance metrics, loss(if available) and save the output model in the `model_dir`.\n",
        "\n",
        "Note that at the testing time, you need to use the same pre-processing and model. So, it would be good that you make those as seperate function/pipeline whichever it the best suited for your method. Don't copy-paste same code twice, make it a fucntion/class whichever is best."
      ],
      "metadata": {
        "id": "zAkC0CWAc1BY"
      }
    },
    {
      "cell_type": "code",
      "source": [
        "from sklearn.feature_extraction.text import CountVectorizer\n",
        "from sklearn.linear_model import LogisticRegression\n",
        "from sklearn.pipeline import Pipeline\n",
        "import joblib\n",
        "import nltk"
      ],
      "metadata": {
        "id": "J892iPM8hFvJ"
      },
      "execution_count": null,
      "outputs": []
    },
    {
      "cell_type": "code",
      "source": [
        "from sklearn.linear_model import LogisticRegression"
      ],
      "metadata": {
        "id": "fpbMf0fQxZJR"
      },
      "execution_count": null,
      "outputs": []
    },
    {
      "cell_type": "code",
      "source": [
        "from sklearn.svm import SVC\n",
        "def train_dis(train_file, val_file, model_dir):\n",
        "    \"\"\"\n",
        "    Takes train_file, val_file and model_dir as input.\n",
        "    It trained on the train_file datapoints, and validate on the val_file datapoints.\n",
        "    While training and validating, it print different evaluataion metrics and losses, wheverever necessary.\n",
        "    After finishing the training, it saved the best model in the model_dir.\n",
        "\n",
        "    ADD Other arguments, if needed.\n",
        "\n",
        "    Args:\n",
        "        train_file: Train file name\n",
        "        val_file: Validation file name\n",
        "        model_dir: Model output Directory\n",
        "\n",
        "    \"\"\"\n",
        "\n",
        "    ##########################################################################\n",
        "    #                     TODO: Implement this function                      #\n",
        "    ##########################################################################\n",
        "    # Replace \"pass\" statement with your code\n",
        "\n",
        "    # Data reading\n",
        "    train_df = pd.read_csv(train_file)\n",
        "    val_df = pd.read_csv(val_file)\n",
        "\n",
        "    #Data preprocessing\n",
        "    X_train = preprocess_data(train_df)\n",
        "    y_train = train_df['toxicity']\n",
        "    X_val = preprocess_data(val_df)\n",
        "    y_val = val_df['toxicity']\n",
        "\n",
        "     # Model Declaration/Initialization/building\n",
        "    classifier = LogisticRegression()\n",
        "\n",
        "    # Training the model\n",
        "    classifier.fit(X_train, y_train)\n",
        "\n",
        "    # Validate the model\n",
        "    y_pred_val = classifier.predict(X_val)\n",
        "\n",
        "    # Print performance metrics\n",
        "    score = compute_performance(y_val, y_pred_val)\n",
        "    print('Validation F1-Score is', score)\n",
        "\n",
        "    # Save the trained model\n",
        "    model_path = os.path.join(model_dir, 'model.pkl')\n",
        "    joblib.dump(classifier, model_path)\n",
        "    print(\"Saved the trained model to:\", model_path)\n",
        "\n",
        "    return model_path\n",
        "\n",
        "\n",
        "\n",
        "    # Model is working fine, so save model\n",
        "    # Note modify this with your code\n",
        "    # Save the trained model\n",
        "    # Now Zip Model to share it\n",
        "    zip_directory(model_path, MODEL_Dis_File)\n",
        "\n",
        "    model_gdrive_link = get_gdrive_link(MODEL_Dis_File)\n",
        "\n",
        "    print(model_gdrive_link)\n",
        "    get_shareable_link(model_gdrive_link)\n",
        "\n",
        "    ##########################################################################\n",
        "    #                            END OF YOUR CODE                            #\n",
        "    ##########################################################################\n",
        "    return model_gdrive_link"
      ],
      "metadata": {
        "id": "JA7vbLnoc0b5"
      },
      "execution_count": null,
      "outputs": []
    },
    {
      "cell_type": "code",
      "source": [
        "import nltk\n",
        "nltk.download('stopwords')\n",
        "nltk.download('wordnet')\n",
        "nltk.download('omw-1.4')\n",
        "\n",
        "from nltk.corpus import wordnet as wn\n",
        "\n"
      ],
      "metadata": {
        "id": "5hGvMSNV3mMa",
        "colab": {
          "base_uri": "https://localhost:8080/"
        },
        "outputId": "040719af-a694-428e-8dd0-a55562f17427"
      },
      "execution_count": null,
      "outputs": [
        {
          "output_type": "stream",
          "name": "stderr",
          "text": [
            "[nltk_data] Downloading package stopwords to /root/nltk_data...\n",
            "[nltk_data]   Package stopwords is already up-to-date!\n",
            "[nltk_data] Downloading package wordnet to /root/nltk_data...\n",
            "[nltk_data]   Package wordnet is already up-to-date!\n",
            "[nltk_data] Downloading package omw-1.4 to /root/nltk_data...\n",
            "[nltk_data]   Package omw-1.4 is already up-to-date!\n"
          ]
        }
      ]
    },
    {
      "cell_type": "code",
      "source": [
        "import nltk\n",
        "nltk.download('punkt')\n",
        "nltk.download('stopwords')\n",
        "nltk.download('wordnet')"
      ],
      "metadata": {
        "id": "NxoXYZkt__UI",
        "colab": {
          "base_uri": "https://localhost:8080/"
        },
        "outputId": "4d5b1c70-e8f6-4b73-d17a-28af3ccd8f98"
      },
      "execution_count": null,
      "outputs": [
        {
          "output_type": "stream",
          "name": "stderr",
          "text": [
            "[nltk_data] Downloading package punkt to /root/nltk_data...\n",
            "[nltk_data]   Package punkt is already up-to-date!\n",
            "[nltk_data] Downloading package stopwords to /root/nltk_data...\n",
            "[nltk_data]   Package stopwords is already up-to-date!\n",
            "[nltk_data] Downloading package wordnet to /root/nltk_data...\n",
            "[nltk_data]   Package wordnet is already up-to-date!\n"
          ]
        },
        {
          "output_type": "execute_result",
          "data": {
            "text/plain": [
              "True"
            ]
          },
          "metadata": {},
          "execution_count": 35
        }
      ]
    },
    {
      "cell_type": "code",
      "source": [
        "model_gdrive_link = train_dis(train_file, val_file, MODEL_Dis_DIRECTORY)"
      ],
      "metadata": {
        "colab": {
          "base_uri": "https://localhost:8080/"
        },
        "id": "Eq6ogTX2_n73",
        "outputId": "f9c5f81c-0aac-4387-d31d-2a8ff7590bcd"
      },
      "execution_count": null,
      "outputs": [
        {
          "output_type": "stream",
          "name": "stderr",
          "text": [
            "/usr/local/lib/python3.10/dist-packages/sklearn/metrics/_classification.py:1344: UndefinedMetricWarning: Precision is ill-defined and being set to 0.0 in labels with no predicted samples. Use `zero_division` parameter to control this behavior.\n",
            "  _warn_prf(average, modifier, msg_start, len(result))\n"
          ]
        },
        {
          "output_type": "stream",
          "name": "stdout",
          "text": [
            "Accuracy: 0.8688356164383562\n",
            "Recall (macro): 0.5\n",
            "Precision (macro): 0.4344178082191781\n",
            "score (macro): 0.46490745831042696\n",
            "Confusion Matrix:\n",
            "[[2537    0]\n",
            " [ 383    0]]\n",
            "Validation F1-Score is {'accuracy': 0.8688356164383562, 'precision': 0.4344178082191781, 'recall': 0.5, 'confusion_matrix': array([[2537,    0],\n",
            "       [ 383,    0]]), 'confusion_matrix_labels': {0: 0, 1: 1}}\n",
            "Saved the trained model to: gdrive/MyDrive/Assignment/model/2309763/Model_Dis/model.pkl\n"
          ]
        }
      ]
    },
    {
      "cell_type": "markdown",
      "source": [
        "## Testing Method Discriminative Code\n",
        "Your test code should be a stand alone code that must take `test_file`, `model_file` and `output_dir` as input. You could have other things as also input, but these three are must. You would load both files, and generate output based on inputs. Then you will `print` / `display`/ `plot` all performance metrics, and save the output file in the `output_dir`  "
      ],
      "metadata": {
        "id": "LVi2vGeZc5Fp"
      }
    },
    {
      "cell_type": "code",
      "source": [
        "def test_dis(test_file, MODEL_PATH, model_gdrive_link):\n",
        "    \"\"\"\n",
        "    take test_file, model_file and output_dir as input.\n",
        "    It loads model and test of the examples in the test_file.\n",
        "    It prints different evaluation metrics, and saves the output in output directory\n",
        "\n",
        "    ADD Other arguments, if needed\n",
        "\n",
        "    Args:\n",
        "        test_file: test file name\n",
        "        model_gdrive_link: GDrive URL\n",
        "        MODEL_PATH: Directory of Model\n",
        "\n",
        "    \"\"\"\n",
        "    print('\\n Start by downloading model')\n",
        "    # Frist Get model from the link\n",
        "    # model_gdrive_link = get_gdrive_link(model_file)\n",
        "\n",
        "    # These two are temporary directory and file\n",
        "    test_model_file = MODEL_PATH+'/test1.zip'\n",
        "    test_model_path = MODEL_PATH+'/test/'\n",
        "\n",
        "\n",
        "    # Now download and unzip the model file\n",
        "    download_zip_file_from_link(model_gdrive_link,test_model_file)\n",
        "    print('Model downloaded to', test_model_file)\n",
        "    unzip_file(test_model_file, test_model_path)\n",
        "    print('\\n Model is downloaded to ',test_model_path)\n",
        "    ##########################################################################\n",
        "    #                     TODO: Implement this function                      #\n",
        "    ##########################################################################\n",
        "    # Replace \"pass\" statement with your code\n",
        "\n",
        "    # Load the trained model\n",
        "    model = joblib.load_model(model_file)\n",
        "\n",
        "    # Load test data\n",
        "    test_df = pd.read_csv(test_file)\n",
        "    X_test = test_df['comment']\n",
        "    y_test = test_df['toxicity']\n",
        "\n",
        "    # Test the model\n",
        "    y_pred_test = model.predict(X_test)\n",
        "\n",
        "    # Print performance metrics\n",
        "    accuracy = accuracy_score(y_test, y_pred_test)\n",
        "    recall = recall_score(y_test, y_pred_test, average='macro')\n",
        "    precision = precision_score(y_test, y_pred_test, average='macro')\n",
        "    f1 = f1_score(y_test, y_pred_test, average='macro')\n",
        "    print(\"Accuracy:\", accuracy)\n",
        "    print(\"Recall (macro):\", recall)\n",
        "    print(\"Precision (macro):\", precision)\n",
        "    print(\"F1 (macro):\", f1)\n",
        "\n",
        "    print(\"Output saved at:\", output_file)\n",
        "    # Now save the model output in the same test file\n",
        "    # Note the name of output column, this is for the discriminative model\n",
        "    # test_df['out_label_model_Dis'] = y_pred_test\n",
        "    # output_file = os.path.join(output_dir, 'test_output.csv')\n",
        "    # test_df.to_csv(output_file, index=False)\n",
        "\n",
        "    # # Now save the model output in the same output file\n",
        "    # #test_df.to_csv(test_file, index=False)\n",
        "    # print('\\n Output is save in ', test_file)\n",
        "\n",
        "    ##########################################################################\n",
        "    #                            END OF YOUR CODE                            #\n",
        "    ##########################################################################\n",
        "    return output_file"
      ],
      "metadata": {
        "id": "v477tmxOSlVj"
      },
      "execution_count": null,
      "outputs": []
    },
    {
      "cell_type": "code",
      "source": [
        "model_gdrive_link = test_dis(test_file, val_file, MODEL_Dis_DIRECTORY)"
      ],
      "metadata": {
        "colab": {
          "base_uri": "https://localhost:8080/",
          "height": 141
        },
        "id": "Ii4ydP7Fx3jE",
        "outputId": "8197993a-c824-444e-c5a5-c34d371df641"
      },
      "execution_count": null,
      "outputs": [
        {
          "output_type": "error",
          "ename": "TypeError",
          "evalue": "test_dis() missing 1 required positional argument: 'output_dir'",
          "traceback": [
            "\u001b[0;31m---------------------------------------------------------------------------\u001b[0m",
            "\u001b[0;31mTypeError\u001b[0m                                 Traceback (most recent call last)",
            "\u001b[0;32m<ipython-input-41-9ae0518d27d7>\u001b[0m in \u001b[0;36m<cell line: 1>\u001b[0;34m()\u001b[0m\n\u001b[0;32m----> 1\u001b[0;31m \u001b[0mmodel_gdrive_link\u001b[0m \u001b[0;34m=\u001b[0m \u001b[0mtest_dis\u001b[0m\u001b[0;34m(\u001b[0m\u001b[0mtest_file\u001b[0m\u001b[0;34m,\u001b[0m \u001b[0mval_file\u001b[0m\u001b[0;34m,\u001b[0m \u001b[0mMODEL_Dis_DIRECTORY\u001b[0m\u001b[0;34m)\u001b[0m\u001b[0;34m\u001b[0m\u001b[0;34m\u001b[0m\u001b[0m\n\u001b[0m",
            "\u001b[0;31mTypeError\u001b[0m: test_dis() missing 1 required positional argument: 'output_dir'"
          ]
        }
      ]
    },
    {
      "cell_type": "markdown",
      "source": [
        "## Discriminative Method  End\n"
      ],
      "metadata": {
        "id": "4gNwyxXNSmVb"
      }
    },
    {
      "cell_type": "markdown",
      "source": [],
      "metadata": {
        "id": "bDYDtWqMltOq"
      }
    },
    {
      "cell_type": "markdown",
      "source": [
        "# Other Method/model Start"
      ],
      "metadata": {
        "id": "rmaJfJkVwSDW"
      }
    },
    {
      "cell_type": "code",
      "source": [
        "import argparse"
      ],
      "metadata": {
        "id": "YsIl8SPc6uen"
      },
      "execution_count": null,
      "outputs": []
    },
    {
      "cell_type": "code",
      "source": [
        "# Define argparse-like function\n",
        "def parse_arguments(option):\n",
        "    parser = argparse.ArgumentParser(description='Process some integers.')\n",
        "    parser.add_argument('--option', '-o',  type=str, default=option, help='Description of your option.')\n",
        "    args = parser.parse_args(args=[])\n",
        "    return args\n",
        "\n",
        "# Function to perform some action based on selected option\n",
        "def perform_action(option):\n",
        "    print(\"Performing action with option:\", option)\n",
        "\n",
        "    if option == '0':\n",
        "      print('\\n Okay Exiting!!! ')\n",
        "\n",
        "    elif option == '1':\n",
        "      print('\\n Training Generative Model')\n",
        "      model_gdrive_link = train_Gen(train_file,val_file,MODEL_Gen_DIRECTORY)\n",
        "      print('Make sure to pass model URL in Testing',model_gdrive_link)\n",
        "\n",
        "    elif option == '2':\n",
        "      print('\\n\\n Pass the URL Not Variable !!!')\n",
        "      print('\\n Testing Generative Model')\n",
        "      model_gen_url = ''\n",
        "      test_Gen(test_file, model_gen_url)\n",
        "\n",
        "    elif option == '3':\n",
        "      print('\\n Training Disciminative Model')\n",
        "      model_gdrive_link = train_dis(train_file,val_file,MODEL_Dis_DIRECTORY)\n",
        "      print('Make sure to pass model URL in Testing',model_gdrive_link)\n",
        "      print('\\n\\n Pass the URL Not Variable !!!')\n",
        "\n",
        "    elif option == '4':\n",
        "      print('\\n\\n Pass the URL Not Variable !!!')\n",
        "      print('\\n Testing Disciminative Model')\n",
        "      model_dis_url = 'https://drive.google.com/file/d/1--sJNJMLFvAz77HjiB8is8DDHOfY0FBG/view?usp=sharing'\n",
        "      test_dis(test_file, MODEL_PATH, model_dis_url)\n",
        "\n",
        "    else:\n",
        "      print('Wrong Option Selected. \\n\\nPlease select Correct option')\n",
        "      main()\n",
        "\n",
        "\n",
        "def main():\n",
        "\n",
        "    # Get option from user input\n",
        "    user_option = input(\"0. To Exit Code\\n\"\n",
        "                     \"1. Train Model Generative\\n\"\n",
        "                    \"2. Test Model Generative\\n\"\n",
        "                    \"3. Train Model Discriminative\\n\"\n",
        "                    \"4. Test Model Discriminative\\n\"\n",
        "                    \"Enter your option: \")\n",
        "\n",
        "    args = parse_arguments(user_option)\n",
        "    option = args.option\n",
        "    perform_action(option)\n"
      ],
      "metadata": {
        "id": "vWBxKhLI6vfY"
      },
      "execution_count": null,
      "outputs": []
    },
    {
      "cell_type": "code",
      "source": [
        "main()"
      ],
      "metadata": {
        "id": "LQTmVWa5wdD3",
        "colab": {
          "base_uri": "https://localhost:8080/",
          "height": 495
        },
        "outputId": "d6026a27-5510-4ddf-e5a7-a6d6e84aa1bd"
      },
      "execution_count": null,
      "outputs": [
        {
          "output_type": "stream",
          "name": "stdout",
          "text": [
            "0. To Exit Code\n",
            "1. Train Model Generative\n",
            "2. Test Model Generative\n",
            "3. Train Model Discriminative\n",
            "4. Test Model Discriminative\n",
            "Enter your option: 2\n",
            "Performing action with option: 2\n",
            "\n",
            "\n",
            " Pass the URL Not Variable !!!\n",
            "\n",
            " Testing Generative Model\n"
          ]
        },
        {
          "output_type": "error",
          "ename": "TypeError",
          "evalue": "test_Gen() missing 2 required positional arguments: 'model_gdrive_link' and 'output_dir'",
          "traceback": [
            "\u001b[0;31m---------------------------------------------------------------------------\u001b[0m",
            "\u001b[0;31mTypeError\u001b[0m                                 Traceback (most recent call last)",
            "\u001b[0;32m<ipython-input-56-263240bbee7e>\u001b[0m in \u001b[0;36m<cell line: 1>\u001b[0;34m()\u001b[0m\n\u001b[0;32m----> 1\u001b[0;31m \u001b[0mmain\u001b[0m\u001b[0;34m(\u001b[0m\u001b[0;34m)\u001b[0m\u001b[0;34m\u001b[0m\u001b[0;34m\u001b[0m\u001b[0m\n\u001b[0m",
            "\u001b[0;32m<ipython-input-52-c4dde963fc48>\u001b[0m in \u001b[0;36mmain\u001b[0;34m()\u001b[0m\n\u001b[1;32m     53\u001b[0m     \u001b[0margs\u001b[0m \u001b[0;34m=\u001b[0m \u001b[0mparse_arguments\u001b[0m\u001b[0;34m(\u001b[0m\u001b[0muser_option\u001b[0m\u001b[0;34m)\u001b[0m\u001b[0;34m\u001b[0m\u001b[0;34m\u001b[0m\u001b[0m\n\u001b[1;32m     54\u001b[0m     \u001b[0moption\u001b[0m \u001b[0;34m=\u001b[0m \u001b[0margs\u001b[0m\u001b[0;34m.\u001b[0m\u001b[0moption\u001b[0m\u001b[0;34m\u001b[0m\u001b[0;34m\u001b[0m\u001b[0m\n\u001b[0;32m---> 55\u001b[0;31m     \u001b[0mperform_action\u001b[0m\u001b[0;34m(\u001b[0m\u001b[0moption\u001b[0m\u001b[0;34m)\u001b[0m\u001b[0;34m\u001b[0m\u001b[0;34m\u001b[0m\u001b[0m\n\u001b[0m",
            "\u001b[0;32m<ipython-input-52-c4dde963fc48>\u001b[0m in \u001b[0;36mperform_action\u001b[0;34m(option)\u001b[0m\n\u001b[1;32m     22\u001b[0m       \u001b[0mprint\u001b[0m\u001b[0;34m(\u001b[0m\u001b[0;34m'\\n Testing Generative Model'\u001b[0m\u001b[0;34m)\u001b[0m\u001b[0;34m\u001b[0m\u001b[0;34m\u001b[0m\u001b[0m\n\u001b[1;32m     23\u001b[0m       \u001b[0mmodel_gen_url\u001b[0m \u001b[0;34m=\u001b[0m \u001b[0;34m''\u001b[0m\u001b[0;34m\u001b[0m\u001b[0;34m\u001b[0m\u001b[0m\n\u001b[0;32m---> 24\u001b[0;31m       \u001b[0mtest_Gen\u001b[0m\u001b[0;34m(\u001b[0m\u001b[0mtest_file\u001b[0m\u001b[0;34m,\u001b[0m \u001b[0mmodel_gen_url\u001b[0m\u001b[0;34m)\u001b[0m\u001b[0;34m\u001b[0m\u001b[0;34m\u001b[0m\u001b[0m\n\u001b[0m\u001b[1;32m     25\u001b[0m \u001b[0;34m\u001b[0m\u001b[0m\n\u001b[1;32m     26\u001b[0m     \u001b[0;32melif\u001b[0m \u001b[0moption\u001b[0m \u001b[0;34m==\u001b[0m \u001b[0;34m'3'\u001b[0m\u001b[0;34m:\u001b[0m\u001b[0;34m\u001b[0m\u001b[0;34m\u001b[0m\u001b[0m\n",
            "\u001b[0;31mTypeError\u001b[0m: test_Gen() missing 2 required positional arguments: 'model_gdrive_link' and 'output_dir'"
          ]
        }
      ]
    },
    {
      "cell_type": "code",
      "source": [
        "model_dis_url = 'https://drive.google.com/drive/folders/1mda1v6ElJK2cCACX5D8zBJuN9Ao49P0C'\n",
        "test_dis(test_file, MODEL_PATH, model_dis_url)"
      ],
      "metadata": {
        "colab": {
          "base_uri": "https://localhost:8080/",
          "height": 373
        },
        "id": "21nlQsMVRTJe",
        "outputId": "5b7cc5aa-b2a9-4890-a105-8993a1610428"
      },
      "execution_count": null,
      "outputs": [
        {
          "output_type": "stream",
          "name": "stdout",
          "text": [
            "\n",
            " Start by downloading model\n",
            "Failed to download the file.\n",
            "Model downloaded to gdrive/MyDrive/Assignment/model/2309763/test1.zip\n"
          ]
        },
        {
          "output_type": "error",
          "ename": "BadZipFile",
          "evalue": "File is not a zip file",
          "traceback": [
            "\u001b[0;31m---------------------------------------------------------------------------\u001b[0m",
            "\u001b[0;31mBadZipFile\u001b[0m                                Traceback (most recent call last)",
            "\u001b[0;32m<ipython-input-50-914d188b6c2f>\u001b[0m in \u001b[0;36m<cell line: 2>\u001b[0;34m()\u001b[0m\n\u001b[1;32m      1\u001b[0m \u001b[0mmodel_dis_url\u001b[0m \u001b[0;34m=\u001b[0m \u001b[0;34m'https://drive.google.com/drive/folders/1mda1v6ElJK2cCACX5D8zBJuN9Ao49P0C'\u001b[0m\u001b[0;34m\u001b[0m\u001b[0;34m\u001b[0m\u001b[0m\n\u001b[0;32m----> 2\u001b[0;31m \u001b[0mtest_dis\u001b[0m\u001b[0;34m(\u001b[0m\u001b[0mtest_file\u001b[0m\u001b[0;34m,\u001b[0m \u001b[0mMODEL_PATH\u001b[0m\u001b[0;34m,\u001b[0m \u001b[0mmodel_dis_url\u001b[0m\u001b[0;34m)\u001b[0m\u001b[0;34m\u001b[0m\u001b[0;34m\u001b[0m\u001b[0m\n\u001b[0m",
            "\u001b[0;32m<ipython-input-49-c9cea54167d0>\u001b[0m in \u001b[0;36mtest_dis\u001b[0;34m(test_file, MODEL_PATH, model_gdrive_link)\u001b[0m\n\u001b[1;32m     25\u001b[0m     \u001b[0mdownload_zip_file_from_link\u001b[0m\u001b[0;34m(\u001b[0m\u001b[0mmodel_gdrive_link\u001b[0m\u001b[0;34m,\u001b[0m\u001b[0mtest_model_file\u001b[0m\u001b[0;34m)\u001b[0m\u001b[0;34m\u001b[0m\u001b[0;34m\u001b[0m\u001b[0m\n\u001b[1;32m     26\u001b[0m     \u001b[0mprint\u001b[0m\u001b[0;34m(\u001b[0m\u001b[0;34m'Model downloaded to'\u001b[0m\u001b[0;34m,\u001b[0m \u001b[0mtest_model_file\u001b[0m\u001b[0;34m)\u001b[0m\u001b[0;34m\u001b[0m\u001b[0;34m\u001b[0m\u001b[0m\n\u001b[0;32m---> 27\u001b[0;31m     \u001b[0munzip_file\u001b[0m\u001b[0;34m(\u001b[0m\u001b[0mtest_model_file\u001b[0m\u001b[0;34m,\u001b[0m \u001b[0mtest_model_path\u001b[0m\u001b[0;34m)\u001b[0m\u001b[0;34m\u001b[0m\u001b[0;34m\u001b[0m\u001b[0m\n\u001b[0m\u001b[1;32m     28\u001b[0m     \u001b[0mprint\u001b[0m\u001b[0;34m(\u001b[0m\u001b[0;34m'\\n Model is downloaded to '\u001b[0m\u001b[0;34m,\u001b[0m\u001b[0mtest_model_path\u001b[0m\u001b[0;34m)\u001b[0m\u001b[0;34m\u001b[0m\u001b[0;34m\u001b[0m\u001b[0m\n\u001b[1;32m     29\u001b[0m     \u001b[0;31m##########################################################################\u001b[0m\u001b[0;34m\u001b[0m\u001b[0;34m\u001b[0m\u001b[0m\n",
            "\u001b[0;32m<ipython-input-11-fac109daba69>\u001b[0m in \u001b[0;36munzip_file\u001b[0;34m(zip_filename, extract_dir)\u001b[0m\n\u001b[1;32m     13\u001b[0m \u001b[0;31m# Function to unzip a zip file\u001b[0m\u001b[0;34m\u001b[0m\u001b[0;34m\u001b[0m\u001b[0m\n\u001b[1;32m     14\u001b[0m \u001b[0;32mdef\u001b[0m \u001b[0munzip_file\u001b[0m\u001b[0;34m(\u001b[0m\u001b[0mzip_filename\u001b[0m\u001b[0;34m,\u001b[0m \u001b[0mextract_dir\u001b[0m\u001b[0;34m)\u001b[0m\u001b[0;34m:\u001b[0m\u001b[0;34m\u001b[0m\u001b[0;34m\u001b[0m\u001b[0m\n\u001b[0;32m---> 15\u001b[0;31m     \u001b[0;32mwith\u001b[0m \u001b[0mzipfile\u001b[0m\u001b[0;34m.\u001b[0m\u001b[0mZipFile\u001b[0m\u001b[0;34m(\u001b[0m\u001b[0mzip_filename\u001b[0m\u001b[0;34m,\u001b[0m \u001b[0;34m'r'\u001b[0m\u001b[0;34m)\u001b[0m \u001b[0;32mas\u001b[0m \u001b[0mzip_ref\u001b[0m\u001b[0;34m:\u001b[0m\u001b[0;34m\u001b[0m\u001b[0;34m\u001b[0m\u001b[0m\n\u001b[0m\u001b[1;32m     16\u001b[0m         \u001b[0mzip_ref\u001b[0m\u001b[0;34m.\u001b[0m\u001b[0mextractall\u001b[0m\u001b[0;34m(\u001b[0m\u001b[0mextract_dir\u001b[0m\u001b[0;34m)\u001b[0m\u001b[0;34m\u001b[0m\u001b[0;34m\u001b[0m\u001b[0m\n\u001b[1;32m     17\u001b[0m     \u001b[0mprint\u001b[0m\u001b[0;34m(\u001b[0m\u001b[0;34m'Extracted a zip file to'\u001b[0m\u001b[0;34m,\u001b[0m\u001b[0mextract_dir\u001b[0m\u001b[0;34m)\u001b[0m\u001b[0;34m\u001b[0m\u001b[0;34m\u001b[0m\u001b[0m\n",
            "\u001b[0;32m/usr/lib/python3.10/zipfile.py\u001b[0m in \u001b[0;36m__init__\u001b[0;34m(self, file, mode, compression, allowZip64, compresslevel, strict_timestamps)\u001b[0m\n\u001b[1;32m   1267\u001b[0m         \u001b[0;32mtry\u001b[0m\u001b[0;34m:\u001b[0m\u001b[0;34m\u001b[0m\u001b[0;34m\u001b[0m\u001b[0m\n\u001b[1;32m   1268\u001b[0m             \u001b[0;32mif\u001b[0m \u001b[0mmode\u001b[0m \u001b[0;34m==\u001b[0m \u001b[0;34m'r'\u001b[0m\u001b[0;34m:\u001b[0m\u001b[0;34m\u001b[0m\u001b[0;34m\u001b[0m\u001b[0m\n\u001b[0;32m-> 1269\u001b[0;31m                 \u001b[0mself\u001b[0m\u001b[0;34m.\u001b[0m\u001b[0m_RealGetContents\u001b[0m\u001b[0;34m(\u001b[0m\u001b[0;34m)\u001b[0m\u001b[0;34m\u001b[0m\u001b[0;34m\u001b[0m\u001b[0m\n\u001b[0m\u001b[1;32m   1270\u001b[0m             \u001b[0;32melif\u001b[0m \u001b[0mmode\u001b[0m \u001b[0;32min\u001b[0m \u001b[0;34m(\u001b[0m\u001b[0;34m'w'\u001b[0m\u001b[0;34m,\u001b[0m \u001b[0;34m'x'\u001b[0m\u001b[0;34m)\u001b[0m\u001b[0;34m:\u001b[0m\u001b[0;34m\u001b[0m\u001b[0;34m\u001b[0m\u001b[0m\n\u001b[1;32m   1271\u001b[0m                 \u001b[0;31m# set the modified flag so central directory gets written\u001b[0m\u001b[0;34m\u001b[0m\u001b[0;34m\u001b[0m\u001b[0m\n",
            "\u001b[0;32m/usr/lib/python3.10/zipfile.py\u001b[0m in \u001b[0;36m_RealGetContents\u001b[0;34m(self)\u001b[0m\n\u001b[1;32m   1334\u001b[0m             \u001b[0;32mraise\u001b[0m \u001b[0mBadZipFile\u001b[0m\u001b[0;34m(\u001b[0m\u001b[0;34m\"File is not a zip file\"\u001b[0m\u001b[0;34m)\u001b[0m\u001b[0;34m\u001b[0m\u001b[0;34m\u001b[0m\u001b[0m\n\u001b[1;32m   1335\u001b[0m         \u001b[0;32mif\u001b[0m \u001b[0;32mnot\u001b[0m \u001b[0mendrec\u001b[0m\u001b[0;34m:\u001b[0m\u001b[0;34m\u001b[0m\u001b[0;34m\u001b[0m\u001b[0m\n\u001b[0;32m-> 1336\u001b[0;31m             \u001b[0;32mraise\u001b[0m \u001b[0mBadZipFile\u001b[0m\u001b[0;34m(\u001b[0m\u001b[0;34m\"File is not a zip file\"\u001b[0m\u001b[0;34m)\u001b[0m\u001b[0;34m\u001b[0m\u001b[0;34m\u001b[0m\u001b[0m\n\u001b[0m\u001b[1;32m   1337\u001b[0m         \u001b[0;32mif\u001b[0m \u001b[0mself\u001b[0m\u001b[0;34m.\u001b[0m\u001b[0mdebug\u001b[0m \u001b[0;34m>\u001b[0m \u001b[0;36m1\u001b[0m\u001b[0;34m:\u001b[0m\u001b[0;34m\u001b[0m\u001b[0;34m\u001b[0m\u001b[0m\n\u001b[1;32m   1338\u001b[0m             \u001b[0mprint\u001b[0m\u001b[0;34m(\u001b[0m\u001b[0mendrec\u001b[0m\u001b[0;34m)\u001b[0m\u001b[0;34m\u001b[0m\u001b[0;34m\u001b[0m\u001b[0m\n",
            "\u001b[0;31mBadZipFile\u001b[0m: File is not a zip file"
          ]
        }
      ]
    },
    {
      "cell_type": "code",
      "source": [],
      "metadata": {
        "id": "OYQBsNULohjD"
      },
      "execution_count": null,
      "outputs": []
    },
    {
      "cell_type": "markdown",
      "source": [
        "##Other Method/model End"
      ],
      "metadata": {
        "id": "7yMswIeAwYIf"
      }
    }
  ]
}